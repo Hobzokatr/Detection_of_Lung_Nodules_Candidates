{
 "cells": [
  {
   "cell_type": "code",
   "execution_count": null,
   "id": "c57af8e1",
   "metadata": {},
   "outputs": [],
   "source": [
    "import sys\n",
    "from os import listdir\n",
    "from os.path import isfile, join\n",
    "import pandas as pd\n",
    "from tqdm import tqdm\n",
    "from glob import glob\n",
    "import csv\n",
    "from random import randint\n",
    "import random\n",
    "import numpy as np\n",
    "from load_tools import load_itk, show_images, world_2_voxel\n",
    "import SimpleITK as sitk\n",
    "#from sklearn.model_selection import StratifiedShuffleSplit\n",
    "#from PIL import Image"
   ]
  },
  {
   "cell_type": "markdown",
   "id": "b828a72e",
   "metadata": {},
   "source": [
    "# Ploting images from LUNA candidate list\n",
    "Inspired by Maria Dobko"
   ]
  },
  {
   "cell_type": "code",
   "execution_count": null,
   "id": "d5a7eca2",
   "metadata": {},
   "outputs": [],
   "source": [
    "all_candidates = pd.read_csv('/datagrid/Medical/archive/archive_dirs/nodules/Luna/candidates.csv')\n",
    "nonnodules = all_candidates[all_candidates['class']==0]  \n",
    "nodules = all_candidates[all_candidates['class'] == 1]\n",
    "joined_nodules = nonnodules.append(nodules)\n",
    "'(nodules: {} non-nodules: {}) / {}'.format(nodules.shape[0],nonnodules.shape[0],all_candidates.shape[0])"
   ]
  },
  {
   "cell_type": "code",
   "execution_count": null,
   "id": "e1649756",
   "metadata": {},
   "outputs": [],
   "source": [
    "num_images_show = 20\n",
    "\n",
    "width_size = 32\n",
    "l = []\n",
    "patches = []\n",
    "for i in range(num_images_show):\n",
    "    im = nodules.iloc[i]\n",
    "    for subset in range(10):\n",
    "        input_path = \"/datagrid/Medical/archive/archive_dirs/nodules/Luna/subset{}\".format(subset)\n",
    "        im_path = join(input_path, im['seriesuid']+'.mhd')\n",
    "        if isfile(im_path):\n",
    "            lung_img = cv2.imread(im_path)\n",
    "            _, orig, spac = load_itk(im_path)\n",
    "            vox_coords = world_2_voxel([float(im['coordZ']), float(im['coordY']), float(im['coordX'])], orig, spac)\n",
    "            y_class = int(im['class'])\n",
    "            w = width_size / 2\n",
    "            patch = lung_img[int(vox_coords[0]-1): int(vox_coords[0]+2),\n",
    "                    int(vox_coords[1] - w): int(vox_coords[1] + w),\n",
    "                    int(vox_coords[2] - w): int(vox_coords[2] + w)]\n",
    "            l.append(patch[0])\n",
    "            patches.append(patch)\n",
    "show_images(l, 3)"
   ]
  },
  {
   "cell_type": "markdown",
   "id": "a437a162",
   "metadata": {},
   "source": [
    "# Plotting images from LungTIME"
   ]
  },
  {
   "cell_type": "code",
   "execution_count": null,
   "id": "b7db68e6",
   "metadata": {},
   "outputs": [],
   "source": [
    "all_candidates = pd.read_csv('/datagrid/Medical/LungTIME/candidates.csv')\n",
    "nonnodules = all_candidates[all_candidates['class']==0]  \n",
    "nodules = all_candidates[all_candidates['class'] == 1]\n",
    "joined_nodules = nonnodules.append(nodules)\n",
    "'(nodules: {} non-nodules: {}) / {}'.format(nodules.shape[0],nonnodules.shape[0],all_candidates.shape[0])"
   ]
  },
  {
   "cell_type": "code",
   "execution_count": null,
   "id": "fbf7bf52",
   "metadata": {},
   "outputs": [],
   "source": [
    "num_images_show = 20\n",
    "\n",
    "width_size = 32\n",
    "l = []\n",
    "patches = []\n",
    "for i in range(num_images_show):\n",
    "    im = nodules.iloc[i]\n",
    "    for subset in range(10):\n",
    "        input_path = \"/datagrid/Medical/archive/archive_dirs/nodules/Luna/subset{}\".format(subset)\n",
    "        im_path = join(input_path, im['seriesuid']+'.mhd')\n",
    "        if isfile(im_path):\n",
    "            lung_img = cv2.imread(im_path)\n",
    "            _, orig, spac = load_itk(im_path)\n",
    "            vox_coords = world_2_voxel([float(im['coordZ']), float(im['coordY']), float(im['coordX'])], orig, spac)\n",
    "            y_class = int(im['class'])\n",
    "            w = width_size / 2\n",
    "            patch = lung_img[int(vox_coords[0]-1): int(vox_coords[0]+2),\n",
    "                    int(vox_coords[1] - w): int(vox_coords[1] + w),\n",
    "                    int(vox_coords[2] - w): int(vox_coords[2] + w)]\n",
    "            l.append(patch[0])\n",
    "            patches.append(patch)\n",
    "show_images(l, 3)"
   ]
  }
 ],
 "metadata": {
  "kernelspec": {
   "display_name": "Python 3 (ipykernel)",
   "language": "python",
   "name": "python3"
  },
  "language_info": {
   "codemirror_mode": {
    "name": "ipython",
    "version": 3
   },
   "file_extension": ".py",
   "mimetype": "text/x-python",
   "name": "python",
   "nbconvert_exporter": "python",
   "pygments_lexer": "ipython3",
   "version": "3.10.9"
  }
 },
 "nbformat": 4,
 "nbformat_minor": 5
}
